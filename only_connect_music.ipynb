{
 "cells": [
  {
   "cell_type": "code",
   "execution_count": 6,
   "source": [
    "%matplotlib inline"
   ],
   "outputs": [],
   "metadata": {}
  },
  {
   "cell_type": "code",
   "execution_count": 7,
   "source": [
    "# Import dependencies\r\n",
    "import pandas as pd\r\n",
    "import random\r\n",
    "import matplotlib.pyplot as plt"
   ],
   "outputs": [],
   "metadata": {}
  },
  {
   "cell_type": "code",
   "execution_count": 8,
   "source": [
    "# Sampling Function\r\n",
    "def prob_loop(counter, times, sample_space, n):\r\n",
    "    \r\n",
    "    # Initialize variables\r\n",
    "    winning_team = []\r\n",
    "    turn_picked = []\r\n",
    "\r\n",
    "    # Loop through all sims\r\n",
    "    while (counter < times):\r\n",
    "\r\n",
    "        # Sample from full space\r\n",
    "        dist = random.sample(sample_space, len(sample_space))\r\n",
    "\r\n",
    "        # Determine turn of success and winner\r\n",
    "        # Turn\r\n",
    "        winner = 0\r\n",
    "        turn = 0\r\n",
    "\r\n",
    "        turn = dist.index('S') + 1\r\n",
    "\r\n",
    "        # Winner\r\n",
    "        while (turn > n):\r\n",
    "            turn = turn - n\r\n",
    "        winner = turn\r\n",
    "\r\n",
    "        # Add winners and turns to lists\r\n",
    "        winning_team.append(winner)\r\n",
    "        turn_picked.append(dist.index('S') + 1)\r\n",
    "\r\n",
    "        # Increase counter\r\n",
    "        counter += 1\r\n",
    "\r\n",
    "    # Return values\r\n",
    "    return winning_team, turn_picked\r\n"
   ],
   "outputs": [],
   "metadata": {}
  },
  {
   "cell_type": "code",
   "execution_count": 9,
   "source": [
    "# Simulation function\r\n",
    "def music_sim(times = 10, n = 2, samp_n = 6):\r\n",
    "\r\n",
    "    # Define variables\r\n",
    "    counter = 0\r\n",
    "    sample_space = ['F'] * (samp_n - 1) + ['S']\r\n",
    "    \r\n",
    "\r\n",
    "    # Call probability function\r\n",
    "    winning_team, turn__picked = prob_loop(counter, times, sample_space, n)\r\n",
    "\r\n",
    "    # # Return values\r\n",
    "    # return winning_team, turn__picked\r\n",
    "\r\n",
    "    # By Team\r\n",
    "    team_x = list(range(1, n + 1))\r\n",
    "    team_y = []\r\n",
    "\r\n",
    "    for i in range(1, n + 1):\r\n",
    "        team_y.append(winning_team.count(i))\r\n",
    "\r\n",
    "\r\n",
    "    fig, ax = plt.subplots()\r\n",
    "    ax.bar(team_x, team_y)\r\n",
    "    plt.xlabel('Order Picked')\r\n",
    "    plt.ylabel('Number of Times Chosen')\r\n",
    "    plt.title('Number of Times Music Question was Chosen by Order (1,000,000 Simulations)')\r\n",
    "\r\n",
    "    for i in range(len(team_y)):\r\n",
    "        plt.annotate(str(team_y[i]), xy=(team_x[i],team_y[i]), ha='center', va='bottom')\r\n",
    "\r\n",
    "    plt.show()"
   ],
   "outputs": [],
   "metadata": {}
  },
  {
   "cell_type": "code",
   "execution_count": 12,
   "source": [
    "# Take values\r\n",
    "music_sim(times = 1000000, n = 3)"
   ],
   "outputs": [
    {
     "output_type": "display_data",
     "data": {
      "image/png": "[encoded data removed]",
      "text/plain": [
       "<Figure size 432x288 with 1 Axes>"
      ]
     },
     "metadata": {
      "needs_background": "light"
     }
    }
   ],
   "metadata": {}
  },
  {
   "cell_type": "markdown",
   "source": [
    "Plotting Final Outcomes"
   ],
   "metadata": {}
  },
  {
   "cell_type": "code",
   "execution_count": null,
   "source": [
    "# # By Team\r\n",
    "# team_x = list(range(1, n + 1))\r\n",
    "# team_y = [winning_team.count('A'), winning_team.count('B')]\r\n",
    "\r\n",
    "# fig, ax = plt.subplots()\r\n",
    "# ax.bar(team_x, team_y)\r\n",
    "# plt.xlabel('Order Picked')\r\n",
    "# plt.ylabel('Number of Times Chosen')\r\n",
    "# plt.title('Number of Times Music Question was Chosen by Order (1,000,000 Simulations)')\r\n",
    "\r\n",
    "# for i in range(len(team_y)):\r\n",
    "#     plt.annotate(str(team_y[i]), xy=(team_x[i],team_y[i]), ha='center', va='bottom')\r\n",
    "\r\n",
    "# plt.show()"
   ],
   "outputs": [],
   "metadata": {}
  },
  {
   "cell_type": "code",
   "execution_count": null,
   "source": [
    "# # By Turn\r\n",
    "# turn_x = list(range(1, 7))\r\n",
    "# turn_y = [turn_picked.count(num) for num in turn_x]\r\n",
    "\r\n",
    "# fig, ax = plt.subplots()\r\n",
    "# ax.bar(turn_x, turn_y)\r\n",
    "# plt.xlabel('Turn Number')\r\n",
    "# plt.ylabel('Number of Times Chosen')\r\n",
    "# plt.title('Number of Times the Music Question was Chosen by Turn')\r\n",
    "\r\n"
   ],
   "outputs": [],
   "metadata": {}
  }
 ],
 "metadata": {
  "orig_nbformat": 4,
  "language_info": {
   "name": "python",
   "version": "3.7.9",
   "mimetype": "text/x-python",
   "codemirror_mode": {
    "name": "ipython",
    "version": 3
   },
   "pygments_lexer": "ipython3",
   "nbconvert_exporter": "python",
   "file_extension": ".py"
  },
  "kernelspec": {
   "name": "python3",
   "display_name": "Python 3.7.9 64-bit ('PythonData': conda)"
  },
  "interpreter": {
   "hash": "5057b7eef5ef6178ba0df79a20bb385a33fde4771b1ac03d2b482b12ce503196"
  }
 },
 "nbformat": 4,
 "nbformat_minor": 2
}